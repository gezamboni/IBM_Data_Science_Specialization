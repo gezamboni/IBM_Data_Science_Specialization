{
 "cells": [
  {
   "cell_type": "markdown",
   "id": "264a52fb",
   "metadata": {},
   "source": [
    "<h1 align=center><font size = 5>Assignment: SQL Notebook for Peer Assignment</font></h1>\n",
    "\n",
    "\n",
    "## Introduction\n",
    "\n",
    "Using this Python notebook you will:\n",
    "\n",
    "1.  Understand the Spacex DataSet\n",
    "2.  Load the dataset  into the corresponding table in a Db2 database\n",
    "3.  Execute SQL queries to answer assignment questions"
   ]
  },
  {
   "cell_type": "markdown",
   "id": "41b36c22",
   "metadata": {},
   "source": [
    "## Overview of the DataSet\n",
    "\n",
    "SpaceX has gained worldwide attention for a series of historic milestones.\n",
    "\n",
    "It is the only private company ever to return a spacecraft from low-earth orbit, which it first accomplished in December 2010.\n",
    "SpaceX advertises Falcon 9 rocket launches on its website with a cost of 62 million dollars wheras other providers cost upward of 165 million dollars each, much of the savings is because Space X can reuse the first stage.\n",
    "\n",
    "Therefore if we can determine if the first stage will land, we can determine the cost of a launch.\n",
    "\n",
    "This information can be used if an alternate company wants to bid against SpaceX for a rocket launch.\n",
    "\n",
    "This dataset includes a record for each payload carried during a SpaceX mission into outer space.\n"
   ]
  },
  {
   "cell_type": "markdown",
   "id": "fabf29ef",
   "metadata": {},
   "source": [
    "### Download the datasets\n",
    "\n",
    "This assignment requires you to load the spacex dataset.\n",
    "\n",
    "In many cases the dataset to be analyzed is available as a .CSV (comma separated values) file, perhaps on the internet. Click on the link below to download and save the dataset (.CSV file):\n",
    "\n",
    "<a href=\"https://cf-courses-data.s3.us.cloud-object-storage.appdomain.cloud/IBM-DS0321EN-SkillsNetwork/labs/module_2/data/Spacex.csv?utm_medium=Exinfluencer&utm_source=Exinfluencer&utm_content=000026UJ&utm_term=10006555&utm_id=NA-SkillsNetwork-Channel-SkillsNetworkCoursesIBMDS0321ENSkillsNetwork26802033-2021-01-01\" target=\"_blank\">Spacex DataSet</a>\n"
   ]
  },
  {
   "cell_type": "markdown",
   "id": "d652845d",
   "metadata": {},
   "source": [
    "### Store the dataset in database table\n",
    "\n",
    "**it is highly recommended to manually load the table using the database console LOAD tool in DB2**.\n",
    "\n",
    "<img src = \"https://cf-courses-data.s3.us.cloud-object-storage.appdomain.cloud/IBM-DS0321EN-SkillsNetwork/labs/module_2/images/spacexload.png\">\n",
    "\n",
    "Now open the Db2 console, open the LOAD tool, Select / Drag the .CSV file for the  dataset, Next create a New Table, and then follow the steps on-screen instructions to load the data. Name the new table as follows:\n",
    "\n",
    "**SPACEXDATASET**\n",
    "\n",
    "**Follow these steps while using old DB2 UI which is having Open Console Screen**\n",
    "\n",
    "**Note:While loading Spacex dataset, ensure that detect datatypes is disabled. Later click on the pencil icon(edit option).**\n",
    "\n",
    "1.  Change the Date Format by manually typing DD-MM-YYYY and timestamp format as DD-MM-YYYY HH\\:MM:SS.\n",
    "\n",
    "    Here you should place the cursor at Date field and manually type as DD-MM-YYYY.\n",
    "\n",
    "2.  Change the PAYLOAD_MASS\\_\\_KG\\_  datatype  to INTEGER.\n",
    "\n",
    "<img src = \"https://cf-courses-data.s3.us.cloud-object-storage.appdomain.cloud/IBM-DS0321EN-SkillsNetwork/labs/module_2/images/spacexload2.png\">\n"
   ]
  },
  {
   "cell_type": "markdown",
   "id": "a6769cf7",
   "metadata": {},
   "source": [
    "<h2>Import Libraries</h2>"
   ]
  },
  {
   "cell_type": "code",
   "execution_count": 1,
   "id": "67928e0f",
   "metadata": {},
   "outputs": [
    {
     "name": "stdout",
     "output_type": "stream",
     "text": [
      "Requirement already satisfied: sqlalchemy==1.3.9 in f:\\programdata\\anaconda3\\lib\\site-packages (1.3.9)\n"
     ]
    },
    {
     "name": "stderr",
     "output_type": "stream",
     "text": [
      "WARNING: Ignoring invalid distribution -ip (f:\\programdata\\anaconda3\\lib\\site-packages)\n",
      "WARNING: Ignoring invalid distribution -cikit-learn (f:\\programdata\\anaconda3\\lib\\site-packages)\n",
      "WARNING: Ignoring invalid distribution -ip (f:\\programdata\\anaconda3\\lib\\site-packages)\n",
      "WARNING: Ignoring invalid distribution -cikit-learn (f:\\programdata\\anaconda3\\lib\\site-packages)\n",
      "WARNING: Ignoring invalid distribution -ip (f:\\programdata\\anaconda3\\lib\\site-packages)\n",
      "WARNING: Ignoring invalid distribution -cikit-learn (f:\\programdata\\anaconda3\\lib\\site-packages)\n",
      "WARNING: Ignoring invalid distribution -ip (f:\\programdata\\anaconda3\\lib\\site-packages)\n",
      "WARNING: Ignoring invalid distribution -cikit-learn (f:\\programdata\\anaconda3\\lib\\site-packages)\n",
      "WARNING: Ignoring invalid distribution -ip (f:\\programdata\\anaconda3\\lib\\site-packages)\n",
      "WARNING: Ignoring invalid distribution -cikit-learn (f:\\programdata\\anaconda3\\lib\\site-packages)\n"
     ]
    },
    {
     "name": "stdout",
     "output_type": "stream",
     "text": [
      "Requirement already satisfied: ibm_db_sa in f:\\programdata\\anaconda3\\lib\\site-packages (0.3.3)\n",
      "Requirement already satisfied: sqlalchemy>=0.7.3 in f:\\programdata\\anaconda3\\lib\\site-packages (from ibm_db_sa) (1.3.9)\n"
     ]
    },
    {
     "name": "stderr",
     "output_type": "stream",
     "text": [
      "WARNING: Ignoring invalid distribution -ip (f:\\programdata\\anaconda3\\lib\\site-packages)\n",
      "WARNING: Ignoring invalid distribution -cikit-learn (f:\\programdata\\anaconda3\\lib\\site-packages)\n",
      "WARNING: Ignoring invalid distribution -ip (f:\\programdata\\anaconda3\\lib\\site-packages)\n",
      "WARNING: Ignoring invalid distribution -cikit-learn (f:\\programdata\\anaconda3\\lib\\site-packages)\n",
      "WARNING: Ignoring invalid distribution -ip (f:\\programdata\\anaconda3\\lib\\site-packages)\n",
      "WARNING: Ignoring invalid distribution -cikit-learn (f:\\programdata\\anaconda3\\lib\\site-packages)\n",
      "WARNING: Ignoring invalid distribution -ip (f:\\programdata\\anaconda3\\lib\\site-packages)\n",
      "WARNING: Ignoring invalid distribution -cikit-learn (f:\\programdata\\anaconda3\\lib\\site-packages)\n",
      "WARNING: Ignoring invalid distribution -ip (f:\\programdata\\anaconda3\\lib\\site-packages)\n",
      "WARNING: Ignoring invalid distribution -cikit-learn (f:\\programdata\\anaconda3\\lib\\site-packages)\n"
     ]
    },
    {
     "name": "stdout",
     "output_type": "stream",
     "text": [
      "Requirement already satisfied: ipython-sql in f:\\programdata\\anaconda3\\lib\\site-packages (0.4.0)\n",
      "Requirement already satisfied: sqlparse in f:\\programdata\\anaconda3\\lib\\site-packages (from ipython-sql) (0.4.2)\n",
      "Requirement already satisfied: six in f:\\programdata\\anaconda3\\lib\\site-packages (from ipython-sql) (1.16.0)\n",
      "Requirement already satisfied: ipython>=1.0 in f:\\programdata\\anaconda3\\lib\\site-packages (from ipython-sql) (7.31.1)\n",
      "Requirement already satisfied: ipython-genutils>=0.1.0 in f:\\programdata\\anaconda3\\lib\\site-packages (from ipython-sql) (0.2.0)\n",
      "Requirement already satisfied: sqlalchemy>=0.6.7 in f:\\programdata\\anaconda3\\lib\\site-packages (from ipython-sql) (1.3.9)\n",
      "Requirement already satisfied: prettytable<1 in f:\\programdata\\anaconda3\\lib\\site-packages (from ipython-sql) (0.7.2)\n",
      "Requirement already satisfied: colorama in f:\\programdata\\anaconda3\\lib\\site-packages (from ipython>=1.0->ipython-sql) (0.4.4)\n",
      "Requirement already satisfied: traitlets>=4.2 in f:\\programdata\\anaconda3\\lib\\site-packages (from ipython>=1.0->ipython-sql) (5.1.1)\n",
      "Requirement already satisfied: pickleshare in f:\\programdata\\anaconda3\\lib\\site-packages (from ipython>=1.0->ipython-sql) (0.7.5)\n",
      "Requirement already satisfied: decorator in f:\\programdata\\anaconda3\\lib\\site-packages (from ipython>=1.0->ipython-sql) (5.1.1)\n",
      "Requirement already satisfied: setuptools>=18.5 in f:\\programdata\\anaconda3\\lib\\site-packages (from ipython>=1.0->ipython-sql) (58.0.4)\n",
      "Requirement already satisfied: pygments in f:\\programdata\\anaconda3\\lib\\site-packages (from ipython>=1.0->ipython-sql) (2.11.2)\n",
      "Requirement already satisfied: jedi>=0.16 in f:\\programdata\\anaconda3\\lib\\site-packages (from ipython>=1.0->ipython-sql) (0.18.1)\n",
      "Requirement already satisfied: matplotlib-inline in f:\\programdata\\anaconda3\\lib\\site-packages (from ipython>=1.0->ipython-sql) (0.1.2)\n",
      "Requirement already satisfied: prompt-toolkit!=3.0.0,!=3.0.1,<3.1.0,>=2.0.0 in f:\\programdata\\anaconda3\\lib\\site-packages (from ipython>=1.0->ipython-sql) (3.0.20)\n",
      "Requirement already satisfied: backcall in f:\\programdata\\anaconda3\\lib\\site-packages (from ipython>=1.0->ipython-sql) (0.2.0)\n",
      "Requirement already satisfied: parso<0.9.0,>=0.8.0 in f:\\programdata\\anaconda3\\lib\\site-packages (from jedi>=0.16->ipython>=1.0->ipython-sql) (0.8.3)\n",
      "Requirement already satisfied: wcwidth in f:\\programdata\\anaconda3\\lib\\site-packages (from prompt-toolkit!=3.0.0,!=3.0.1,<3.1.0,>=2.0.0->ipython>=1.0->ipython-sql) (0.2.5)\n"
     ]
    },
    {
     "name": "stderr",
     "output_type": "stream",
     "text": [
      "WARNING: Ignoring invalid distribution -ip (f:\\programdata\\anaconda3\\lib\\site-packages)\n",
      "WARNING: Ignoring invalid distribution -cikit-learn (f:\\programdata\\anaconda3\\lib\\site-packages)\n",
      "WARNING: Ignoring invalid distribution -ip (f:\\programdata\\anaconda3\\lib\\site-packages)\n",
      "WARNING: Ignoring invalid distribution -cikit-learn (f:\\programdata\\anaconda3\\lib\\site-packages)\n",
      "WARNING: Ignoring invalid distribution -ip (f:\\programdata\\anaconda3\\lib\\site-packages)\n",
      "WARNING: Ignoring invalid distribution -cikit-learn (f:\\programdata\\anaconda3\\lib\\site-packages)\n",
      "WARNING: Ignoring invalid distribution -ip (f:\\programdata\\anaconda3\\lib\\site-packages)\n",
      "WARNING: Ignoring invalid distribution -cikit-learn (f:\\programdata\\anaconda3\\lib\\site-packages)\n",
      "WARNING: Ignoring invalid distribution -ip (f:\\programdata\\anaconda3\\lib\\site-packages)\n",
      "WARNING: Ignoring invalid distribution -cikit-learn (f:\\programdata\\anaconda3\\lib\\site-packages)\n"
     ]
    }
   ],
   "source": [
    "!pip install sqlalchemy==1.3.9\n",
    "!pip install ibm_db_sa\n",
    "!pip install ipython-sql"
   ]
  },
  {
   "cell_type": "markdown",
   "id": "31b1742c",
   "metadata": {},
   "source": [
    "### Connect to the database\n",
    "\n",
    "Let us first load the SQL extension and establish a connection with the database\n"
   ]
  },
  {
   "cell_type": "code",
   "execution_count": 2,
   "id": "93f2843f",
   "metadata": {},
   "outputs": [],
   "source": [
    "%load_ext sql"
   ]
  },
  {
   "cell_type": "markdown",
   "id": "cfd50505",
   "metadata": {},
   "source": [
    "**DB2 magic in case of old UI service credentials.**\n",
    "\n",
    "In the next cell enter your db2 connection string. Recall you created Service Credentials for your Db2 instance before. From the **uri** field of your Db2 service credentials copy everything after db2:// (except the double quote at the end) and paste it in the cell below after ibm_db_sa://\n",
    "\n",
    "<img src =\"https://cf-courses-data.s3.us.cloud-object-storage.appdomain.cloud/IBMDeveloperSkillsNetwork-DB0201EN-SkillsNetwork/labs/FinalModule_edX/images/URI.jpg\">\n",
    "\n",
    "in the following format\n",
    "\n",
    "**%sql ibm_db_sa://my-username:my-password\\@my-hostname:my-port/my-db-name**\n",
    "\n",
    "**DB2 magic in case of new UI service credentials.**\n",
    "\n",
    "<img src =\"https://cf-courses-data.s3.us.cloud-object-storage.appdomain.cloud/IBM-DS0321EN-SkillsNetwork/labs/module_2/images/servicecredentials.png\" width=600>  \n",
    "\n",
    "*   Use the following format.\n",
    "\n",
    "*   Add security=SSL at the end\n",
    "\n",
    "**%sql ibm_db_sa://my-username:my-password\\@my-hostname:my-port/my-db-name?security=SSL**\n"
   ]
  },
  {
   "cell_type": "raw",
   "id": "613f1d4e",
   "metadata": {},
   "source": [
    "# pick from db2:\n",
    "#  - my-username\n",
    "#  - my-password\n",
    "#  - my-hostname\n",
    "#  - my-port\n",
    "#  - my-db-name\n",
    "# Then substitute them in the line below\n",
    "\n",
    "%sql ibm_db_sa://my-username:my-password@my-hostname:my-port/my-db-name?security=SSL"
   ]
  },
  {
   "cell_type": "markdown",
   "id": "18be4c4b",
   "metadata": {},
   "source": [
    "## Tasks\n",
    "\n",
    "Now write and execute SQL queries to solve the assignment tasks.\n",
    "\n",
    "### Task 1\n",
    "\n",
    "##### Display the names of the unique launch sites  in the space mission\n"
   ]
  },
  {
   "cell_type": "raw",
   "id": "759507de",
   "metadata": {},
   "source": [
    "%sql select distinct(LAUNCH_SITE) from SPACEXTBL"
   ]
  },
  {
   "cell_type": "markdown",
   "id": "00905dec",
   "metadata": {},
   "source": [
    "<strong>Result</strong>\n",
    "<div style=\"float:left\">\n",
    "<table >\n",
    "  <tr>\n",
    "    <th>launch_site</th>\n",
    "  </tr>\n",
    "  <tr>\n",
    "    <td>CCAFS LC-40</td>\n",
    "  </tr>\n",
    "  <tr>\n",
    "    <td>CCAFS SLC-40</td>\n",
    "  </tr>\n",
    "  <tr>\n",
    "    <td>KSC LC-39A</td>\n",
    "  </tr>\n",
    "  <tr>\n",
    "    <td>VAFB SLC-4E</td>\n",
    "  </tr>\n",
    "</table>\n",
    "    </div>"
   ]
  },
  {
   "cell_type": "markdown",
   "id": "84cc9ece",
   "metadata": {},
   "source": [
    "### Task 2\n",
    "\n",
    "##### Display 5 records where launch sites begin with the string 'CCA'\n"
   ]
  },
  {
   "cell_type": "raw",
   "id": "07f68579",
   "metadata": {},
   "source": [
    "%sql select * from SPACEXTBL WHERE LAUNCH_SITE like 'CCA%' limit 5"
   ]
  },
  {
   "cell_type": "markdown",
   "id": "1a35d591",
   "metadata": {},
   "source": [
    "<img src =\"table-01.jpg\" style=\"width:100%; height:auto\"> "
   ]
  },
  {
   "cell_type": "markdown",
   "id": "0d2acc63",
   "metadata": {},
   "source": [
    "### Task 3\n",
    "\n",
    "##### Display the total payload mass carried by boosters launched by NASA (CRS)\n"
   ]
  },
  {
   "cell_type": "raw",
   "id": "b13b6244",
   "metadata": {},
   "source": [
    "%sql select SUM (PAYLOAD_MASS__KG_) from spacextbl where customer = 'NASA (CRS)'"
   ]
  },
  {
   "cell_type": "markdown",
   "id": "bc673d06",
   "metadata": {},
   "source": [
    "<strong>Result</strong>\n",
    "<div style=\"float:left\">\n",
    "<table >\n",
    "  <tr>\n",
    "    <th>1</th>\n",
    "  </tr>\n",
    "  <tr>\n",
    "    <td>45596</td>\n",
    "  </tr>\n",
    "\n",
    "</table>\n",
    "</div>\n"
   ]
  },
  {
   "cell_type": "markdown",
   "id": "a914d903",
   "metadata": {},
   "source": [
    "### Task 4\n",
    "\n",
    "##### Display average payload mass carried by booster version F9 v1.1\n"
   ]
  },
  {
   "cell_type": "raw",
   "id": "254b88b3",
   "metadata": {},
   "source": [
    "%sql select avg(PAYLOAD_MASS__KG_) from spacextbl where BOOSTER_VERSION = 'F9 v1.1'"
   ]
  },
  {
   "cell_type": "markdown",
   "id": "eb8504c6",
   "metadata": {},
   "source": [
    "<strong>Result</strong>\n",
    "<div style=\"float:left\">\n",
    "<table >\n",
    "  <tr>\n",
    "    <th>1</th>\n",
    "  </tr>\n",
    "  <tr>\n",
    "    <td>2928</td>\n",
    "  </tr>\n",
    "\n",
    "</table>\n",
    "</div>"
   ]
  },
  {
   "cell_type": "markdown",
   "id": "adcf55cb",
   "metadata": {},
   "source": [
    "### Task 5\n",
    "\n",
    "##### List the date when the first successful landing outcome in ground pad was acheived.\n",
    "\n",
    "*Hint:Use min function*\n"
   ]
  },
  {
   "cell_type": "raw",
   "id": "becac8c4",
   "metadata": {},
   "source": [
    "%sql select min(DATE) from spacextbl where LANDING__OUTCOME = 'Success (ground pad)'r"
   ]
  },
  {
   "cell_type": "markdown",
   "id": "6ca36d27",
   "metadata": {},
   "source": [
    "<strong>Result</strong>\n",
    "<div style=\"float:left\">\n",
    "<table >\n",
    "  <tr>\n",
    "    <th>1</th>\n",
    "  </tr>\n",
    "  <tr>\n",
    "    <td>2015-12-22</td>\n",
    "  </tr>\n",
    "\n",
    "</table>\n",
    "</div>"
   ]
  },
  {
   "cell_type": "markdown",
   "id": "7e3f1853",
   "metadata": {},
   "source": [
    "### Task 6\n",
    "\n",
    "##### List the names of the boosters which have success in drone ship and have payload mass greater than 4000 but less than 6000\n"
   ]
  },
  {
   "cell_type": "raw",
   "id": "d25bf655",
   "metadata": {},
   "source": [
    "%sql select BOOSTER_VERSION from spacextbl where LANDING__OUTCOME = 'Success (drone ship)' and PAYLOAD_MASS__KG_ between 4000 and 6000"
   ]
  },
  {
   "cell_type": "markdown",
   "id": "16eaa2b2",
   "metadata": {},
   "source": [
    "<strong>Result</strong>\n",
    "<div style=\"float:left\">\n",
    "<table >\n",
    "  <tr>\n",
    "    <th>booster_version</th>\n",
    "  </tr>\n",
    "  <tr>\n",
    "    <td>F9 FT B1022</td>\n",
    "  </tr>\n",
    "  <tr>\n",
    "    <td>F9 FT B1026</td>\n",
    "  </tr>\n",
    "  <tr>\n",
    "    <td>F9 FT B1021.2</td>\n",
    "  </tr>\n",
    "  <tr>\n",
    "    <td>F9 FT B1031.2</td>\n",
    "  </tr>\n",
    "</table>\n",
    "</div>"
   ]
  },
  {
   "cell_type": "markdown",
   "id": "bc78702b",
   "metadata": {},
   "source": [
    "### Task 7\n",
    "\n",
    "##### List the total number of successful and failure mission outcomes\n"
   ]
  },
  {
   "cell_type": "raw",
   "id": "cd4a245c",
   "metadata": {},
   "source": [
    "%sql select MISSION_OUTCOME as Results, count(MISSION_OUTCOME) as Quantity from spacextbl group by MISSION_OUTCOME"
   ]
  },
  {
   "cell_type": "markdown",
   "id": "a96aedef",
   "metadata": {},
   "source": [
    "<strong>Result</strong>\n",
    "<div style=\"float:left\">\n",
    "<table >\n",
    "  <tr>\n",
    "    <th>results</th>\n",
    "    <th>quantity</th>\n",
    "  </tr>\n",
    "  <tr>\n",
    "    <td>Failure (in flight)</td>\n",
    "    <td>1</td>\n",
    "  </tr>\n",
    "  <tr>\n",
    "    <td>Success</td>\n",
    "    <td>99</td>\n",
    "  </tr>\n",
    "  <tr>\n",
    "    <td>Success (payload status unclear)</td>\n",
    "    <td>1</td>\n",
    "  </tr>\n",
    "</table>\n",
    "</div>\n"
   ]
  },
  {
   "cell_type": "markdown",
   "id": "1a36f7f3",
   "metadata": {},
   "source": [
    "### Task 8\n",
    "\n",
    "##### List the   names of the booster_versions which have carried the maximum payload mass. Use a subquery\n"
   ]
  },
  {
   "cell_type": "raw",
   "id": "e6b5e8ed",
   "metadata": {},
   "source": [
    "%sql select BOOSTER_VERSION, PAYLOAD_MASS__KG_ from spacextbl where PAYLOAD_MASS__KG_ = (select Max(PAYLOAD_MASS__KG_) from spacextbl)"
   ]
  },
  {
   "cell_type": "markdown",
   "id": "eb8dac43",
   "metadata": {},
   "source": [
    "<img src =\"table-02.jpg\" style=\"width:20%; height:auto; float:left\"> "
   ]
  },
  {
   "cell_type": "markdown",
   "id": "8e13084b",
   "metadata": {},
   "source": [
    "### Task 9\n",
    "\n",
    "##### List the failed landing_outcomes in drone ship, their booster versions, and launch site names for in year 2015\n"
   ]
  },
  {
   "cell_type": "raw",
   "id": "4348bc85",
   "metadata": {},
   "source": [
    "%sql select BOOSTER_VERSION, LANDING__OUTCOME, LAUNCH_SITE, Date from spacextbl where LANDING__OUTCOME = 'Failure (drone ship)' and year(Date) = '2015'"
   ]
  },
  {
   "cell_type": "markdown",
   "id": "397d6019",
   "metadata": {},
   "source": [
    "<img src =\"table-03.jpg\" style=\"width:40%; height:auto; float:left\"> "
   ]
  },
  {
   "cell_type": "markdown",
   "id": "9f7eb6a3",
   "metadata": {},
   "source": [
    "### Task 10\n",
    "\n",
    "##### Rank the count of landing outcomes (such as Failure (drone ship) or Success (ground pad)) between the date 2010-06-04 and 2017-03-20, in descending order\n"
   ]
  },
  {
   "cell_type": "raw",
   "id": "5252bbd8",
   "metadata": {},
   "source": [
    "%sql select LANDING__OUTCOME, COUNT(LANDING__OUTCOME) as total from spacextbl where date >='2010-06-04' and date<='2017-03-20' group by LANDING__OUTCOME"
   ]
  },
  {
   "cell_type": "markdown",
   "id": "288234a3",
   "metadata": {},
   "source": [
    "<img src =\"table-04.jpg\" style=\"width:20%; height:auto; float:left\"> "
   ]
  },
  {
   "cell_type": "markdown",
   "id": "bd832ef7",
   "metadata": {},
   "source": [
    "### Reference Links\n",
    "\n",
    "*   <a href =\"https://cf-courses-data.s3.us.cloud-object-storage.appdomain.cloud/IBMDeveloperSkillsNetwork-DB0201EN-SkillsNetwork/labs/Labs_Coursera_V5/labs/Lab%20-%20String%20Patterns%20-%20Sorting%20-%20Grouping/instructional-labs.md.html?utm_medium=Exinfluencer&utm_source=Exinfluencer&utm_content=000026UJ&utm_term=10006555&utm_id=NA-SkillsNetwork-Channel-SkillsNetworkCoursesIBMDS0321ENSkillsNetwork26802033-2021-01-01&origin=www.coursera.org\">Hands-on Lab : String Patterns, Sorting and Grouping</a>\n",
    "\n",
    "*   <a  href=\"https://cf-courses-data.s3.us.cloud-object-storage.appdomain.cloud/IBMDeveloperSkillsNetwork-DB0201EN-SkillsNetwork/labs/Labs_Coursera_V5/labs/Lab%20-%20Built-in%20functions%20/Hands-on_Lab__Built-in_Functions.md.html?utm_medium=Exinfluencer&utm_source=Exinfluencer&utm_content=000026UJ&utm_term=10006555&utm_id=NA-SkillsNetwork-Channel-SkillsNetworkCoursesIBMDS0321ENSkillsNetwork26802033-2021-01-01&origin=www.coursera.org\">Hands-on Lab: Built-in functions</a>\n",
    "\n",
    "*   <a  href=\"https://cf-courses-data.s3.us.cloud-object-storage.appdomain.cloud/IBMDeveloperSkillsNetwork-DB0201EN-SkillsNetwork/labs/Labs_Coursera_V5/labs/Lab%20-%20Sub-queries%20and%20Nested%20SELECTs%20/instructional-labs.md.html?utm_medium=Exinfluencer&utm_source=Exinfluencer&utm_content=000026UJ&utm_term=10006555&utm_id=NA-SkillsNetwork-Channel-SkillsNetworkCoursesIBMDS0321ENSkillsNetwork26802033-2021-01-01&origin=www.coursera.org\">Hands-on Lab : Sub-queries and Nested SELECT Statements</a>\n",
    "\n",
    "*   <a href=\"https://cf-courses-data.s3.us.cloud-object-storage.appdomain.cloud/IBMDeveloperSkillsNetwork-DB0201EN-SkillsNetwork/labs/Module%205/DB0201EN-Week3-1-3-SQLmagic.ipynb?utm_medium=Exinfluencer&utm_source=Exinfluencer&utm_content=000026UJ&utm_term=10006555&utm_id=NA-SkillsNetwork-Channel-SkillsNetworkCoursesIBMDS0321ENSkillsNetwork26802033-2021-01-01\">Hands-on Tutorial: Accessing Databases with SQL magic</a>\n",
    "\n",
    "*   <a href= \"https://cf-courses-data.s3.us.cloud-object-storage.appdomain.cloud/IBMDeveloperSkillsNetwork-DB0201EN-SkillsNetwork/labs/Module%205/DB0201EN-Week3-1-4-Analyzing.ipynb?utm_medium=Exinfluencer&utm_source=Exinfluencer&utm_content=000026UJ&utm_term=10006555&utm_id=NA-SkillsNetwork-Channel-SkillsNetworkCoursesIBMDS0321ENSkillsNetwork26802033-2021-01-01\">Hands-on Lab: Analyzing a real World Data Set</a>\n"
   ]
  },
  {
   "cell_type": "markdown",
   "id": "de2df602",
   "metadata": {},
   "source": [
    "## Author(s)\n",
    "\n",
    "<h4> Lakshmi Holla </h4>"
   ]
  },
  {
   "cell_type": "markdown",
   "id": "9377a99d",
   "metadata": {},
   "source": [
    "## Other Contributors\n",
    "\n",
    "<h4> Rav Ahuja </h4>\n"
   ]
  },
  {
   "cell_type": "code",
   "execution_count": null,
   "id": "ddc61f61",
   "metadata": {},
   "outputs": [],
   "source": []
  }
 ],
 "metadata": {
  "kernelspec": {
   "display_name": "Python 3 (ipykernel)",
   "language": "python",
   "name": "python3"
  },
  "language_info": {
   "codemirror_mode": {
    "name": "ipython",
    "version": 3
   },
   "file_extension": ".py",
   "mimetype": "text/x-python",
   "name": "python",
   "nbconvert_exporter": "python",
   "pygments_lexer": "ipython3",
   "version": "3.8.12"
  }
 },
 "nbformat": 4,
 "nbformat_minor": 5
}
